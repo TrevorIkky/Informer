{
  "nbformat": 4,
  "nbformat_minor": 0,
  "metadata": {
    "colab": {
      "name": "Informer.ipynb",
      "provenance": [],
      "collapsed_sections": [],
      "include_colab_link": true
    },
    "kernelspec": {
      "display_name": "Python 3",
      "name": "python3"
    },
    "language_info": {
      "name": "python"
    },
    "accelerator": "GPU"
  },
  "cells": [
    {
      "cell_type": "markdown",
      "metadata": {
        "id": "view-in-github",
        "colab_type": "text"
      },
      "source": [
        "<a href=\"https://colab.research.google.com/github/TrevorIkky/Informer/blob/main/Informer.ipynb\" target=\"_parent\"><img src=\"https://colab.research.google.com/assets/colab-badge.svg\" alt=\"Open In Colab\"/></a>"
      ]
    },
    {
      "cell_type": "code",
      "metadata": {
        "id": "Oi4bh9Bb9jn5"
      },
      "source": [
        "import numpy as np\n",
        "import tensorflow as tf\n",
        "\n",
        "tf.config.run_functions_eagerly(True)"
      ],
      "execution_count": null,
      "outputs": []
    },
    {
      "cell_type": "markdown",
      "metadata": {
        "id": "cRD2dAfT95v6"
      },
      "source": [
        "# **Masks**\n",
        "Apply padding mask to values in encoder\n",
        "Apply combined mask (lookahead, padding) and padding mask to decoder. The combined mask applied to the first MHA, the padding mask applied to the second MHA in the decoder."
      ]
    },
    {
      "cell_type": "code",
      "metadata": {
        "id": "Xtfzr7HN8NUn"
      },
      "source": [
        "def padding_mask(sequence):\n",
        "  mask = tf.cast(tf.equal(sequence, 0), dtype=tf.float32)\n",
        "  return mask[:, tf.newaxis, tf.newaxis, :]\n",
        "\n",
        "def look_ahead_mask(seq_len):\n",
        "  mask = 1 - tf.linalg.band_part(tf.ones((seq_len, seq_len)), -1, 0)\n",
        "  return mask\n",
        "\n",
        "\n",
        "def prob_lookahead_mask(B, H, L_Q, I, S):\n",
        "  mask = tf.ones([L_Q, S.shape[-1]], tf.float32)\n",
        "\n",
        "  mask = 1 - tf.linalg.band_part(mask, -1, 0)\n",
        "  mask_expanded = tf.broadcast_to(mask, [B, H, L_Q, S.shape[-1]])\n",
        "  #mask specific q based on reduced Q\n",
        "  mask_Q = tf.gather_nd(mask_expanded, I)\n",
        "  mask_Q = tf.cast(tf.reshape(mask_Q, S.shape), tf.bool)\n",
        "  return mask_Q\n",
        "\n",
        "def combined_mask(padding_mask, look_ahead_mask):\n",
        "  return tf.maximum(padding_mask, look_ahead_mask) \n",
        "\n",
        "# #Padding mask\n",
        "# S = tf.constant([[7, 6, 0, 0, 1], [1, 2, 3, 0, 0], [0, 0, 0, 4, 5]])\n",
        "# X = padding_mask(S)\n",
        "# Y = look_ahead_mask(S.shape[-1])\n",
        "# M = tf.maximum(X, Y)\n",
        "# print(f'Padding mask: {X}\\n\\nLook ahead mask {Y}\\n\\ntf.max: {M}')"
      ],
      "execution_count": null,
      "outputs": []
    },
    {
      "cell_type": "markdown",
      "metadata": {
        "id": "iSEAc5Lq1pSp"
      },
      "source": [
        "# **Embedding Layers**"
      ]
    },
    {
      "cell_type": "code",
      "metadata": {
        "id": "eLtlmIKI8hJ9"
      },
      "source": [
        "from tensorflow.keras.initializers import HeNormal, Constant\n",
        "from tensorflow.keras.layers import Add, Conv1D, LeakyReLU, Embedding, Dropout, Layer"
      ],
      "execution_count": null,
      "outputs": []
    },
    {
      "cell_type": "code",
      "metadata": {
        "id": "fzioa9dYlVf9"
      },
      "source": [
        "\"\"\"\n",
        "PositionalEncoding:\n",
        "Args:\n",
        "\n",
        "Notes:\n",
        "gY = 256, 50, gX = 256, 50\n",
        "np.sin.shape=(50,256) , np.cos.shape = (50,256)\n",
        "We are selecting every 2 pos. Therefore the total number of pos\n",
        "is 256 where at each pos we put the 50.\n",
        "\"\"\"\n",
        "\n",
        "class PositionalEmbedding(Layer):\n",
        "  def __init__(self, embedding_dim, max_seq_len=5000, **kwargs):\n",
        "    super(PositionalEmbedding, self).__init__()\n",
        "    self.max_seq_len = max_seq_len\n",
        "    self.embedding_dim = embedding_dim\n",
        "\n",
        "    if self.embedding_dim % 2 == 1 : self.embedding_dim += 1\n",
        "    gX, gY = np.meshgrid(np.arange(self.max_seq_len), np.arange(self.embedding_dim // 2)) #50, 256\n",
        "    pE = np.empty((1, self.max_seq_len, self.embedding_dim)) # 50, 512\n",
        "    print(pE[0, :, ::2].shape)\n",
        "    print(np.sin(gX / 10000**(2 * gY / self.embedding_dim)).shape)\n",
        "    pE[0, :, ::2] = np.sin(gX / 10000**(2 * gY / self.embedding_dim)).T\n",
        "    pE[0, :, 1::2] = np.cos(gX / 10000**(2 * gY / self.embedding_dim)).T\n",
        "    self.pE = tf.constant(pE, dtype=tf.float32)\n",
        "\n",
        "  def call(self, x):\n",
        "    x_shape = tf.shape(x)\n",
        "    return tf.tile(self.pE[:, :x_shape[-2], :], [x_shape[0], 1, 1])\n",
        "\n",
        "  def get_config(self):\n",
        "    config = super(PositionalEmbedding, self).get_config()\n",
        "    config.update({ \"max_seq_len\": self.max_seq_len, \"embedding_dim\": self.embedding_dim })\n",
        "    return config"
      ],
      "execution_count": null,
      "outputs": []
    },
    {
      "cell_type": "code",
      "metadata": {
        "colab": {
          "base_uri": "https://localhost:8080/"
        },
        "id": "RieOc2DAia08",
        "outputId": "559fbb9c-16ab-40f7-e451-fb01a8d0bf27"
      },
      "source": [
        "pos_x = tf.random.uniform((32, 96, 7), minval=0, maxval=1)\n",
        "pos_emb = PositionalEmbedding(512)(pos_x)\n",
        "pos_emb.shape"
      ],
      "execution_count": null,
      "outputs": [
        {
          "output_type": "stream",
          "name": "stdout",
          "text": [
            "(5000, 256)\n",
            "(256, 5000)\n"
          ]
        },
        {
          "output_type": "execute_result",
          "data": {
            "text/plain": [
              "TensorShape([32, 96, 512])"
            ]
          },
          "metadata": {},
          "execution_count": 9
        }
      ]
    },
    {
      "cell_type": "code",
      "metadata": {
        "id": "bJ38ZNDflSuG"
      },
      "source": [
        "\"\"\"\n",
        "Args:\n",
        "tX = input\n",
        "dim_model = model dimension \n",
        "\n",
        "Notes:\n",
        "LeakyRelU = alpha * x if x < 0 else x if x > 0\n",
        "\"\"\"\n",
        "class TokenEmbedding(Layer):\n",
        "  def __init__(self, dim_model, **kwargs):\n",
        "    super(TokenEmbedding, self).__init__()\n",
        "    self.dim_model = dim_model\n",
        "    self.token_conv = Conv1D(dim_model, 3, padding='causal', activation= LeakyReLU(), kernel_initializer=HeNormal())\n",
        "  \n",
        "  def call(self, x):\n",
        "    x = self.token_conv(x)\n",
        "    return x\n",
        "  \n",
        "  def get_config(self):\n",
        "    config = super(TokenEmbedding, self).get_config()\n",
        "    config.update({ \"dim_model\": self.dim_model })\n",
        "    return config\n"
      ],
      "execution_count": null,
      "outputs": []
    },
    {
      "cell_type": "code",
      "metadata": {
        "id": "LQKHV3i8nUkq"
      },
      "source": [
        "\"\"\"\n",
        "Args:\n",
        "fX = input\n",
        "eI = encoder input = 7\n",
        "dim_model = model dimension = 512\n",
        "\"\"\"\n",
        "class FixedEmbedding(Layer):\n",
        "  def __init__(self, input_size, dim_model, **kwargs):\n",
        "    super(FixedEmbedding, self).__init__()\n",
        "    self.input_size = input_size\n",
        "    self.dim_model = dim_model\n",
        "\n",
        "    if self.dim_model % 2 == 1 : self.dim_model += 1\n",
        "    gX, gY = np.meshgrid(np.arange(self.input_size), np.arange(self.dim_model // 2)) #50, 256\n",
        "    W = np.empty((1, self.input_size, self.dim_model)) # 50, 512\n",
        "    W[0, :, ::2] = np.sin(gX / 10000**(2 * gY / self.dim_model)).T\n",
        "    W[0, :, 1::2] = np.cos(gX / 10000**(2 * gY / self.dim_model)).T\n",
        "    W = tf.constant(W, dtype=tf.float32)\n",
        "    tf.stop_gradient(W)\n",
        "    W = Constant(W)\n",
        "\n",
        "    self.E = Embedding(self.input_size, self.dim_model, embeddings_initializer=W, trainable=False)\n",
        "\n",
        "  def call(self, x):\n",
        "    return self.E(x)\n",
        "\n",
        "  def get_config(self):\n",
        "    config = super(FixedEmbedding, self).get_config()\n",
        "    config.update({ \"input_size\": self.input_size, \"dim_model\": self.dim_model })\n",
        "    return config"
      ],
      "execution_count": null,
      "outputs": []
    },
    {
      "cell_type": "code",
      "metadata": {
        "id": "tJxrFLxepWn5"
      },
      "source": [
        "\"\"\"\n",
        "Args:\n",
        "pX = input\n",
        "dim_model = model_dimension = 512\n",
        "\"\"\"\n",
        "\n",
        "class TemporalEmbedding(Layer):\n",
        "  def __init__(self, dim_model=512, embed_type=\"fixed\", frequency=\"h\", **kwargs):\n",
        "    super(TemporalEmbedding, self).__init__()\n",
        "\n",
        "    self.embed_type = embed_type\n",
        "    self.frequency = frequency\n",
        "    \n",
        "    min = 4\n",
        "    hr = 24\n",
        "    wk = 7\n",
        "    dy = 32\n",
        "    mon = 13\n",
        "\n",
        "    Embed = FixedEmbedding if self.embed_type == 'fixed' else Embedding\n",
        "    \n",
        "    if self.frequency == \"m\":\n",
        "      self.minute_embed = Embed(min, dim_model)\n",
        "    self.hour_embed = Embed(hr, dim_model)\n",
        "    self.weekday_embed = Embed(wk, dim_model)\n",
        "    self.day_embed = Embed(dy, dim_model)\n",
        "    self.month_embed = Embed(mon, dim_model)\n",
        "\n",
        "  def call(self, x):\n",
        "    min_x = self.minute_embed(x[:, :, 4]) if hasattr(self, 'minute_embed') else 0.\n",
        "    hour_x = self.hour_embed(x[:, :, 3])\n",
        "    weekday_x = self.weekday_embed(x[:, :, 2])\n",
        "    day_x = self.day_embed(x[:, :, 1])\n",
        "    month_x = self.month_embed(x[:, :, 0])\n",
        "\n",
        "    return hour_x + weekday_x + day_x + month_x + min_x\n",
        "\n",
        "  def get_config(self):\n",
        "    config = super(TemporalEmbedding, self).get_config()\n",
        "    config.update({ \"embed_type\": self.embed_type, \"frequency\": self.frequency })\n",
        "    return config\n",
        "\n"
      ],
      "execution_count": null,
      "outputs": []
    },
    {
      "cell_type": "code",
      "metadata": {
        "id": "yxO5Vr4TJRny"
      },
      "source": [
        "class TimeFeatureEmbedding(Layer):\n",
        "  def __init__(self, dim_model):\n",
        "    super(TimeFeatureEmbedding, self).__init__()\n",
        "    self.embedding = Dense(dim_model)\n",
        "  def call(self, x):\n",
        "    return self.embedding(x)"
      ],
      "execution_count": null,
      "outputs": []
    },
    {
      "cell_type": "code",
      "metadata": {
        "id": "7IrddgdUiViC"
      },
      "source": [
        "class DataEmbedding(Layer):\n",
        "  def __init__(self, dim_model=512, embed_type=\"time_features\", freq=\"h\", dropout_rate=0.1, training=False, **kwargs):\n",
        "    super(DataEmbedding, self).__init__()\n",
        "\n",
        "    self.dim_model = dim_model\n",
        "    self.embed_type = embed_type\n",
        "    self.freq = freq\n",
        "    self.dropout_rate = dropout_rate\n",
        "\n",
        "    self.training = training\n",
        "\n",
        "    self.val_embedding = TokenEmbedding(self.dim_model)\n",
        "    \n",
        "    if embed_type != \"time_features\":\n",
        "      self.temp_embedding = TemporalEmbedding(self.dim_model, self.embed_type, self.freq)\n",
        "    else:\n",
        "      self.temp_embedding = TimeFeatureEmbedding(self.dim_model)\n",
        "    \n",
        "    self.pos_embedding = PositionalEmbedding(self.dim_model)\n",
        "\n",
        "    self.add = Add()\n",
        "    self.dropout = Dropout(self.dropout_rate)\n",
        "    \n",
        "  def call(self, x, x_mark):\n",
        "    embedding = self.add([self.val_embedding(x), self.temp_embedding(x_mark), self.pos_embedding(x)])\n",
        "    embedding = self.dropout(embedding, training=self.training)\n",
        "    return embedding\n",
        "\n",
        "  def get_config(self):\n",
        "    config = super(DataEmbedding, self).get_config()\n",
        "    config.update({ \"training\": self.training, \"dim_model\": self.dim_model, \"freq\": self.freq, \"dropout_rate\": self.dropout_rate })\n",
        "    return config\n"
      ],
      "execution_count": null,
      "outputs": []
    },
    {
      "cell_type": "code",
      "metadata": {
        "id": "l74ZoWu2zeRA"
      },
      "source": [
        "# data_embedding_x = tf.random.uniform((32, 96, 7), minval=0, maxval=1)\n",
        "# mark_embedding_x = tf.random.uniform((32, 96, 4), minval=0, maxval=7)\n",
        "# data_embedding_x = DataEmbedding(512, training=True)(data_embedding_x, mark_embedding_x)\n",
        "# data_embedding_x.shape"
      ],
      "execution_count": null,
      "outputs": []
    },
    {
      "cell_type": "markdown",
      "metadata": {
        "id": "4TZ9bTCcwIjI"
      },
      "source": [
        "# **Multi-Head Attention**"
      ]
    },
    {
      "cell_type": "code",
      "metadata": {
        "id": "2nesh5_6zDuH"
      },
      "source": [
        "from math import sqrt\n",
        "from typing import Tuple, List\n",
        "from tensorflow.keras.layers import Dense, Lambda"
      ],
      "execution_count": null,
      "outputs": []
    },
    {
      "cell_type": "code",
      "metadata": {
        "id": "BZmucbpFotKx"
      },
      "source": [
        "# Q = tf.random.uniform((4, 2, 2, 3), minval=0, maxval=1, dtype=tf.int32)\n",
        "# batch_indexes = tf.tile(tf.range(Q.shape[0])[:, tf.newaxis, tf.newaxis], (1, Q.shape[1], 2))\n",
        "# head_indexes = tf.tile(tf.range(Q.shape[1])[tf.newaxis, :, tf.newaxis], (Q.shape[0], 1, 2))\n",
        "# pre = tf.constant([[1, 1], [0, 1]])\n",
        "# pre = tf.tile(pre[tf.newaxis, : ], [Q.shape[0], 1, 1]) #2 = Batch size.\n",
        "# idx = tf.stack(values=[batch_indexes, head_indexes, pre], axis=-1)\n",
        "# # idx, batch_indexes, head_indexes\n",
        "# pre, idx"
      ],
      "execution_count": null,
      "outputs": []
    },
    {
      "cell_type": "markdown",
      "metadata": {
        "id": "SeZXPMVPBkTS"
      },
      "source": [
        "**Vanilla Attention**<br>\n",
        "Args: K, V, Q, h, mask<br>\n",
        "K = Keys, V = values, Q = queries, mask=combined, lookahead, padding mask, none\n",
        "\n",
        "Output: Tuple(Tensor, Tensor)<br>\n",
        "Tensor1 = attention weights * values, shape = (B, L, D)<br>\n",
        "Tensor2 = attention weights, shape = (B, H, L_Q, L, V)"
      ]
    },
    {
      "cell_type": "code",
      "metadata": {
        "id": "vgstR-8owH5l"
      },
      "source": [
        "@tf.function\n",
        "def VanillaAttention(K, V, Q, h, dropout_rate=0.1, mask_flag=True, mask=None, training=True) -> Tuple[tf.Tensor, tf.Tensor]:\n",
        "  sQ = tf.shape(Q)\n",
        "  # vB, vL_Q, vH, vE = Q.shape\n",
        "  B = sQ[0]\n",
        "  L_Q = sQ[1]\n",
        "  H = sQ[2]\n",
        "  E = tf.cast(sQ[-1], tf.float32)\n",
        "  \n",
        "  a = tf.einsum('nqhd, nkhd -> nhqk', Q, K)\n",
        "\n",
        "  if mask_flag:\n",
        "    if mask is not None:\n",
        "      a += (mask * -1e9)\n",
        "\n",
        "  x = a / tf.math.sqrt(E)\n",
        "  x = tf.nn.softmax(x, axis=-1)\n",
        "  x = Dropout(dropout_rate)(x, training=True)\n",
        "  x = tf.einsum('nhqk, nkhd -> nqhd', a, V)\n",
        " \n",
        "  x = tf.reshape(x, [B, L_Q, -1])\n",
        "  \n",
        "  return x , a    "
      ],
      "execution_count": null,
      "outputs": []
    },
    {
      "cell_type": "markdown",
      "metadata": {
        "id": "lu3244_wHdWC"
      },
      "source": [
        "**Prob Attention**"
      ]
    },
    {
      "cell_type": "code",
      "metadata": {
        "id": "rYz1z0jW3eDw"
      },
      "source": [
        "@tf.function\n",
        "def ProbAttention(K, V, Q, c=5, mask_flag=True, output_attn=True) -> Tuple[tf.Tensor, tf.Tensor]:\n",
        "\n",
        "  B, L_K, H, E = K.shape\n",
        "  _, L_Q, _, _ = Q.shape\n",
        "  \n",
        "  p = [0, 2, 1, 3]\n",
        "\n",
        "  K = tf.transpose(K, perm=p)\n",
        "  Q = tf.transpose(Q, perm=p)\n",
        "  V = tf.transpose(V, perm=p)\n",
        "\n",
        "  #Sample keys to calculate query sparsity measurement on\n",
        "  #c = factor\n",
        "  U = c * np.ceil(np.log(L_K)).astype('int').item()\n",
        "  u = c * np.ceil(np.log(L_Q)).astype('int').item()\n",
        "\n",
        "  U = U if U < L_K else L_K\n",
        "  u = u if u < L_Q else L_Q\n",
        "\n",
        "  #Top scores, Query Indices\n",
        "  S, Q_I = prob_QK(K, Q, U, u)\n",
        "  S = S * 1./sqrt(E)\n",
        " \n",
        "  context = get_initial_context(mask_flag, V, L_Q)\n",
        "\n",
        "  context, A = update_context(context, S, V, Q_I, L_Q, mask_flag, output_attn)\n",
        "\n",
        "  return context, A\n",
        "\n",
        "def prob_QK(K, Q, sample_k, u) -> Tuple[tf.Tensor, tf.Tensor]:\n",
        "  B, H, L_K, E = K.shape\n",
        "  _, _, L_Q, _ = Q.shape\n",
        "\n",
        "  K_E = tf.broadcast_to(tf.expand_dims(K, axis=-3), [B, H, L_K, L_Q, E])\n",
        "  #sample_k = c * ln(L_K)\n",
        "  K_rand_idx = tf.random.uniform((L_Q, sample_k), maxval=L_K, dtype=tf.int32)\n",
        "\n",
        "  K_rand_idx = tf.tile(K_rand_idx[tf.newaxis, tf.newaxis, : ], [B, H, 1, 1]) #2 = Batch size.\n",
        "\n",
        "  batch_indexes = tf.tile(tf.range(B)[:, tf.newaxis, tf.newaxis, tf.newaxis], (1, H, L_K, K_rand_idx.shape[-1]))\n",
        "  head_indexes = tf.tile(tf.range(H)[tf.newaxis, :, tf.newaxis, tf.newaxis], (B, 1, L_K, K_rand_idx.shape[-1]))\n",
        "  k_indexes = tf.tile(tf.range(L_K)[tf.newaxis, tf.newaxis, :, tf.newaxis ], (B, H, 1, K_rand_idx.shape[-1]))\n",
        " \n",
        "  \n",
        "  K_rand_idx = tf.stack(values=[batch_indexes, head_indexes, k_indexes, K_rand_idx], axis=-1)\n",
        "  \n",
        "  K_sample = tf.gather_nd(K_E, K_rand_idx)\n",
        " \n",
        "  Q_K_sample = tf.squeeze(tf.matmul(tf.expand_dims(Q, axis=-2), tf.transpose(K_sample, [0, 1, 2, 4, 3])))\n",
        "\n",
        "  #u = c * ln(L_Q)\n",
        "  M = tf.reduce_max(Q_K_sample, axis=-1) - tf.divide(tf.reduce_sum(Q_K_sample, axis=-1), L_K)\n",
        "  \n",
        "  M_top = tf.math.top_k(M, u, sorted=False)[1]\n",
        "\n",
        "  M_top = M_top[tf.newaxis] if B == 1 else M_top\n",
        "\n",
        "  M_top = tf.tile(M_top, (1, 1, 1)) \n",
        "  \n",
        "  batch_indexes = tf.tile(tf.range(B)[:, tf.newaxis, tf.newaxis], (1, H, u))\n",
        "  head_indexes = tf.tile(tf.range(H)[tf.newaxis, :, tf.newaxis], (B, 1, u))\n",
        "  \n",
        "  rQ_idx = tf.stack(values=[batch_indexes, head_indexes, M_top], axis=-1)\n",
        "\n",
        "  #Q_K interactions = L_K * ln (L_Q) * c (drop the constant)\n",
        "  #                 = L_K * ln (L_Q)\n",
        "\n",
        "  R_Q = tf.gather_nd(Q, rQ_idx)\n",
        "  Q_K = tf.matmul(R_Q, tf.transpose(K, perm=[0, 1, 3, 2]))\n",
        "\n",
        "  return Q_K, M_top\n",
        "\n",
        "\n",
        "def get_initial_context(mask_flag, V, L_Q) -> tf.Tensor:\n",
        "  B, H, L_V, E = V.shape \n",
        "\n",
        "  if not mask_flag: #context returned is same shape as Q\n",
        "    m = tf.math.reduce_mean(V, axis=-2)\n",
        "    context = tf.identity(tf.broadcast_to(tf.expand_dims(m, axis=-2), [B, H, L_Q, m.shape[-1]]))\n",
        "  else: #Context returned is same shape as V\n",
        "    assert L_Q == L_V, \"Initial context: L_Q != L_V\"\n",
        "    context = tf.math.cumsum(V, axis=-2)\n",
        "  \n",
        "  return context\n",
        "\n",
        "def update_context(context_in, scores, V, Q_I, L_Q, mask_flag=True, output_attn=True) -> Tuple[tf.Tensor, tf.Tensor]:\n",
        "  B, H, L_V, E = V.shape\n",
        "\n",
        "  batch_indexes = tf.tile(tf.range(B)[:, tf.newaxis, tf.newaxis], (1, H, Q_I.shape[-1]))\n",
        "  head_indexes = tf.tile(tf.range(H)[tf.newaxis, :, tf.newaxis], (B, 1, Q_I.shape[-1]))\n",
        "\n",
        "  ctx_I = tf.stack(values=[batch_indexes, head_indexes, Q_I], axis=-1)\n",
        "\n",
        "  if mask_flag:\n",
        "    mask = prob_lookahead_mask(B, H, L_Q, ctx_I, scores)\n",
        "    scores = tf.where(mask, -np.inf, scores)\n",
        "\n",
        "  a = tf.nn.softmax(scores, axis=-1)\n",
        "  x = tf.matmul(a, V) #shape: B, H, Q, D\n",
        " \n",
        "  context_in = tf.tensor_scatter_nd_update(context_in, ctx_I, x)\n",
        "\n",
        "  context_in = tf.transpose(context_in, [0, 2, 1, 3])\n",
        "\n",
        "  context_in = tf.reshape(context_in, [B, L_Q, -1])\n",
        " \n",
        "  if output_attn:\n",
        "    attns = (tf.ones((B, H, L_V, L_V)) / L_V)\n",
        "    attns = tf.tensor_scatter_nd_update(attns, ctx_I, a)\n",
        "    return context_in, attns\n",
        "  else:\n",
        "    return context_in, None"
      ],
      "execution_count": null,
      "outputs": []
    },
    {
      "cell_type": "code",
      "metadata": {
        "id": "hwIf9uxcbdIG"
      },
      "source": [
        "# pX = tf.constant([[[[-0.5034, -1.1429,  0.4153],\n",
        "#           [ 0.3051,  0.1895, -2.0370]],\n",
        "\n",
        "#          [[-0.2590, -0.6820, -0.2117],\n",
        "#           [-0.8491, -1.2988, -0.3452]]]])\n",
        "# pX = ProbAttention(pX, pX, pX, mask_flag=True)[0]\n",
        "# pX.numpy()"
      ],
      "execution_count": null,
      "outputs": []
    },
    {
      "cell_type": "code",
      "metadata": {
        "id": "aZ64vOTdwpw2"
      },
      "source": [
        "@tf.function\n",
        "def AttentionLayer(K, V, Q, att=\"v\", dim_model=512, heads=8, factor=5, mask=None, mask_flag=True) -> Tuple[tf.Tensor, tf.Tensor]:\n",
        "\n",
        "  sK = tf.shape(K)\n",
        "  sQ = tf.shape(Q)\n",
        "  sV = tf.shape(V)\n",
        "\n",
        "  E = sK[-1]\n",
        "  B = sK[0]\n",
        "  aB = sQ[0]\n",
        "\n",
        "  L_K = sK[1]\n",
        "  L_Q = sQ[1]\n",
        "  L_V = sV[1]\n",
        "\n",
        "\n",
        "  assert dim_model % heads == 0, \"Dim Model % Heads != 0\"\n",
        "\n",
        "  K = Dense(dim_model)(K)\n",
        "  V = Dense(dim_model)(V)\n",
        "  Q = Dense(dim_model)(Q)\n",
        "\n",
        "  D = dim_model // heads\n",
        "\n",
        "  K = tf.reshape(K, [B, L_K, heads, D])\n",
        "  V = tf.reshape(V, [B, L_V, heads, D])\n",
        "  Q = tf.reshape(Q, [aB, L_Q, heads, D])\n",
        "\n",
        "  if att == \"v\":\n",
        "    x, a = VanillaAttention(K, V, Q, heads, mask_flag=mask_flag, mask=mask)\n",
        "  else:\n",
        "    x, a = ProbAttention(K, V, Q, mask_flag=mask_flag, output_attn=True)\n",
        " \n",
        "  x = Dense(dim_model)(x)\n",
        "  \n",
        "  return x, a"
      ],
      "execution_count": null,
      "outputs": []
    },
    {
      "cell_type": "code",
      "metadata": {
        "colab": {
          "base_uri": "https://localhost:8080/"
        },
        "id": "reomkBhOPhVW",
        "outputId": "525d2424-5680-4157-8e3e-01cd6a20a922"
      },
      "source": [
        "x = tf.random.uniform((2, 2, 512), minval=0, maxval=1)\n",
        "o, a = AttentionLayer(x, x, x, att=\"p\", dim_model=512, mask_flag=False)\n",
        "o.shape, a.shape"
      ],
      "execution_count": null,
      "outputs": [
        {
          "output_type": "execute_result",
          "data": {
            "text/plain": [
              "(TensorShape([2, 2, 512]), TensorShape([2, 8, 2, 2]))"
            ]
          },
          "metadata": {},
          "execution_count": 18
        }
      ]
    },
    {
      "cell_type": "code",
      "metadata": {
        "id": "Uoj-7ktQp24w"
      },
      "source": [
        "# z = tf.random.uniform((20, 4, 4, 4), minval=0, maxval=1)\n",
        "# pre = tf.constant([[0, 1, 0], [1, 1, 0], [1, 1, 0], [1, 1, 0]])\n",
        "\n",
        "# pre = tf.tile(pre[tf.newaxis, tf.newaxis, : ], [z.shape[0], z.shape[1], 1, 1]) #2 = Batch size.\n",
        "\n",
        "# batch_indexes = tf.tile(tf.range(z.shape[0])[:, tf.newaxis, tf.newaxis, tf.newaxis], (1, z.shape[1], z.shape[2], pre.shape[-1]))\n",
        "# head_indexes = tf.t\n",
        "#     M_top =ile(tf.range(z.shape[1])[tf.newaxis, :, tf.newaxis, tf.newaxis], (z.shape[0], 1, z.shape[2], pre.shape[-1]))\n",
        "# k_indexes = tf.tile(tf.range(z.shape[2])[tf.newaxis, tf.newaxis, :, tf.newaxis ], (z.shape[0], z.shape[1], 1, pre.shape[-1]))\n",
        "\n",
        "\n",
        "# idx = tf.stack(values=[batch_indexes, head_indexes, k_indexes, pre], axis=-1)\n",
        "\n",
        "# zS = tf.gather_nd(z, idx)\n",
        "# # z, idx, zS"
      ],
      "execution_count": null,
      "outputs": []
    },
    {
      "cell_type": "markdown",
      "metadata": {
        "id": "R_9nbnpP38c_"
      },
      "source": [
        "# **Encoder**"
      ]
    },
    {
      "cell_type": "code",
      "metadata": {
        "id": "GLLKWwM_Mf5t"
      },
      "source": [
        "from tensorflow.keras.layers import MaxPool1D, ELU, BatchNormalization, LayerNormalization, ReLU, Add"
      ],
      "execution_count": null,
      "outputs": []
    },
    {
      "cell_type": "code",
      "metadata": {
        "id": "swv3GpavIdw2"
      },
      "source": [
        "\"\"\"\n",
        "Args:\n",
        "x = Input Tensor\n",
        "C = In channels (# of filters)\n",
        "\n",
        "Todo: Check ELU & BatchNormalization\n",
        "\"\"\"\n",
        "@tf.function\n",
        "def DistilLayer(x, dim_model) -> tf.Tensor:\n",
        "  x = Conv1D(dim_model, 3, padding=\"causal\")(x)\n",
        "  x = BatchNormalization()(x)\n",
        "  x = ELU()(x)\n",
        "  x = MaxPool1D(pool_size=3, strides=2)(x)\n",
        "  return x"
      ],
      "execution_count": null,
      "outputs": []
    },
    {
      "cell_type": "code",
      "metadata": {
        "id": "AkCRV7Hq38JC"
      },
      "source": [
        "@tf.function\n",
        "def EncoderLayer(x, dim_model=512, expansion=4, activation=\"gelu\", attn=\"p\", dropout_rate=0.1, training=False, attn_mask=None) -> Tuple[tf.Tensor, tf.Tensor]:\n",
        "  nx, eA = AttentionLayer(x, x, x, attn, dim_model, mask_flag=False, mask=attn_mask)\n",
        "  nx = Dropout(dropout_rate)(nx, training=training)\n",
        "  x = Add()([x, nx])\n",
        "  y = x = LayerNormalization()(x)\n",
        "\n",
        "  y = Conv1D(dim_model * expansion, kernel_size=1)(y)\n",
        "  \n",
        "  y = ReLU()(y) if activation==\"relu\" else ELU()(y)\n",
        "  y = Dropout(dropout_rate)(y, training=training)\n",
        "  \n",
        "  y = Conv1D(dim_model, kernel_size=1)(y)\n",
        "  y = Dropout(dropout_rate)(y, training=training)\n",
        "  y = LayerNormalization()(x + y)\n",
        "  return y, eA"
      ],
      "execution_count": null,
      "outputs": []
    },
    {
      "cell_type": "code",
      "metadata": {
        "colab": {
          "base_uri": "https://localhost:8080/"
        },
        "id": "RtIeKBinMnFW",
        "outputId": "f3ee66d4-9919-4795-89db-abe1ce010077"
      },
      "source": [
        "\"\"\"\n",
        "Encoder Layer Test\n",
        "\"\"\"\n",
        "x = tf.random.uniform((32, 64, 512), minval=0, maxval=1)\n",
        "encodings_y, encodings_a = EncoderLayer(x, 512, training=True)\n",
        "encodings_y.shape, encodings_a.shape"
      ],
      "execution_count": null,
      "outputs": [
        {
          "output_type": "execute_result",
          "data": {
            "text/plain": [
              "(TensorShape([32, 64, 512]), TensorShape([32, 8, 64, 64]))"
            ]
          },
          "metadata": {},
          "execution_count": 23
        }
      ]
    },
    {
      "cell_type": "code",
      "metadata": {
        "id": "f2Qpp_0UMZI1"
      },
      "source": [
        "@tf.function\n",
        "def Encoder(x, enc_layers: List[int], conv_layers: List[int], attn=\"p\", dim_model=512, expansion=4, dropout_rate=0.1, activation=\"gelu\", training=False, attn_mask=None, normalize=True) -> Tuple[tf.Tensor, tf.Tensor]:\n",
        "  attns = []\n",
        "  if conv_layers is not None:\n",
        "    for i, j in zip(enc_layers, conv_layers):\n",
        "      x, t = EncoderLayer(x, dim_model, expansion, activation, attn, dropout_rate, training, attn_mask)\n",
        "      x = DistilLayer(x, dim_model)\n",
        "      attns.append(t)\n",
        "    x, t = EncoderLayer(x, dim_model, expansion, activation, attn, dropout_rate, training, attn_mask)\n",
        "    attns.append(t)\n",
        "  else:\n",
        "    for i in enc_layers:\n",
        "      x, t = EncoderLayer(x, dim_model, expansion, activation, attn, dropout_rate, training, attn_mask)\n",
        "      attns.append(t)\n",
        "  if normalize:\n",
        "    x = LayerNormalization()(x)\n",
        "  return x, attns"
      ],
      "execution_count": null,
      "outputs": []
    },
    {
      "cell_type": "code",
      "metadata": {
        "id": "VPzVB2ZkozzS"
      },
      "source": [
        "\"\"\"\n",
        "Encoder Test\n",
        "\"\"\"\n",
        "enc_layers = [i for i in range(2)]\n",
        "conv_layers = [i for i in range(1)]\n",
        "encoder_x, encoder_l = Encoder(x, enc_layers, conv_layers, training=True)\n",
        "encoder_x.shape, len(encoder_l)"
      ],
      "execution_count": null,
      "outputs": []
    },
    {
      "cell_type": "markdown",
      "metadata": {
        "id": "-15hu6xeU0O9"
      },
      "source": [
        "# **Decoder**"
      ]
    },
    {
      "cell_type": "code",
      "metadata": {
        "id": "ugIuORiYU24c"
      },
      "source": [
        "\"\"\"\n",
        "Args:\n",
        "x_mask for attn 1 (Prob Attention)\n",
        "cross_mask for attn 2 (Vanilla Attention)\n",
        "E = encoder output\n",
        "\"\"\"\n",
        "@tf.function\n",
        "def DecoderLayer(x, E, dim_model=512, heads=8, factor=5, expansion=4, attn=\"p\", activation=\"relu\", dropout_rate=0.1, x_mask=None, cross_mask=None, training=False,) -> tf.Tensor:\n",
        "  z = AttentionLayer(x, x, x, attn, dim_model, heads, factor, x_mask, True)[0]\n",
        "  z = Dropout(dropout_rate)(z, training=training)\n",
        "  x = Add()([x, z])\n",
        "  x = LayerNormalization()(x)\n",
        "\n",
        "  attn = \"v\"\n",
        "  y = AttentionLayer(E, E, x, attn, dim_model, heads, factor, cross_mask, False)[0]\n",
        "  y = Dropout(dropout_rate)(y, training=training)\n",
        "  x = Add()([x, y])\n",
        "  y = x = LayerNormalization()(x)\n",
        "\n",
        "  y = Conv1D(dim_model * expansion, kernel_size=1)(y)\n",
        "  y = ReLU()(y) if activation==\"relu\" else ELU()(y)\n",
        "  y = Dropout(dropout_rate)(y, training=training)\n",
        "  \n",
        "  y = Conv1D(dim_model, kernel_size=1)(y)\n",
        "  y = Dropout(dropout_rate)(y, training=training)\n",
        "  y = LayerNormalization()(x + y)\n",
        "  return y"
      ],
      "execution_count": null,
      "outputs": []
    },
    {
      "cell_type": "code",
      "metadata": {
        "colab": {
          "base_uri": "https://localhost:8080/"
        },
        "id": "f1q9GEaQpzf4",
        "outputId": "c0b0b93c-9433-43e0-f216-1c1a464b9c85"
      },
      "source": [
        "\"\"\"\n",
        "Decoder Layer Test\n",
        "\"\"\"\n",
        "x = tf.random.uniform((32, 64, 512), minval=0, maxval=1)\n",
        "decoding_y = DecoderLayer(x, encoder_x, training=True)\n",
        "decoding_y.shape"
      ],
      "execution_count": null,
      "outputs": [
        {
          "output_type": "execute_result",
          "data": {
            "text/plain": [
              "TensorShape([32, 64, 512])"
            ]
          },
          "metadata": {},
          "execution_count": 27
        }
      ]
    },
    {
      "cell_type": "code",
      "metadata": {
        "id": "Dh24D54JVGAv"
      },
      "source": [
        "@tf.function\n",
        "def Decoder(x, E, dec_layers:List[int], dim_model=512, heads=8, attn=\"p\", factor=5, expansion=4, dropout_rate=0.1, activation=\"gelu\", training=False, x_mask=None, cross_mask=None, normalize=True) -> tf.Tensor:\n",
        "  for k in dec_layers:\n",
        "    x = DecoderLayer(x, E, dim_model, heads, factor, expansion, attn, activation, dropout_rate, x_mask, cross_mask, training)\n",
        "  if normalize:\n",
        "    x = LayerNormalization()(x)\n",
        "  return x"
      ],
      "execution_count": null,
      "outputs": []
    },
    {
      "cell_type": "code",
      "metadata": {
        "colab": {
          "base_uri": "https://localhost:8080/"
        },
        "id": "yZMEaYaO7baL",
        "outputId": "89bd943c-297a-4f3d-aeb0-0ee3ccdf2bcf"
      },
      "source": [
        "\"\"\"\n",
        "Decoder Test\n",
        "\"\"\"\n",
        "decoder_layers = enc_layers = [i for i in range(3)]\n",
        "x = tf.random.uniform((32, 64, 512), minval=0, maxval=1)\n",
        "decoder_y = Decoder(x, encoder_x, decoder_layers, training=True)\n",
        "decoder_y.shape"
      ],
      "execution_count": null,
      "outputs": [
        {
          "output_type": "execute_result",
          "data": {
            "text/plain": [
              "TensorShape([32, 64, 512])"
            ]
          },
          "metadata": {},
          "execution_count": 29
        }
      ]
    },
    {
      "cell_type": "markdown",
      "metadata": {
        "id": "gBRgAA7abBig"
      },
      "source": [
        "# **Informer**"
      ]
    },
    {
      "cell_type": "code",
      "metadata": {
        "id": "y5EYBa9KbN89"
      },
      "source": [
        "from tensorflow.keras.layers import Lambda\n",
        "from tensorflow.keras import Input, Model"
      ],
      "execution_count": null,
      "outputs": []
    },
    {
      "cell_type": "code",
      "metadata": {
        "id": "p31uNW1mbIEX"
      },
      "source": [
        "\"\"\"\n",
        "Args\n",
        "x = input \n",
        "y = target\n",
        "\n",
        "Notes:\n",
        "The mask for ProbAttention is already defined within the attention\n",
        "The mask passed to the Encoder is an input padding mask to mask out zero values\n",
        "in the input sequence\n",
        "\"\"\"\n",
        "@tf.function\n",
        "def Informer(dim_model=512, heads=8, enc_layers:int=2,  dec_layers:int=1, attn=\"p\", expansion=4, factor = 5, dropout_rate=0.05, activation=\"gelu\", embed_type=\"fixed\", frequency=\"h\", training=False, x_mask=None, cross_mask=None) -> Model:\n",
        "  encoder_x = Input(batch_input_shape=(32, 96, 7))\n",
        "  encoder_x_mark = Input(batch_input_shape=(32, 96, 4))\n",
        "\n",
        "  decoder_x = Input(batch_input_shape=(32, 72, 7))\n",
        "  decoder_x_mark = Input(batch_input_shape=(32, 72, 4))\n",
        "\n",
        "\n",
        "  encoder_embedding_x = DataEmbedding(dim_model, embed_type, frequency, dropout_rate, training)(encoder_x, encoder_x_mark)\n",
        "\n",
        "  conv_layers = [ conv_idx for conv_idx in range(enc_layers - 1) ]\n",
        "  enc_layers = [ enc_idx for enc_idx in range(enc_layers) ]\n",
        "\n",
        "  enc_attn_mask = Lambda(padding_mask, name=\"enc_attn_mask\")(encoder_x)\n",
        "\n",
        "  E, mh_attentions = Encoder(encoder_embedding_x, enc_layers , conv_layers, attn, dim_model, expansion, \n",
        "                  dropout_rate, activation, training, enc_attn_mask, True)\n",
        "  \n",
        "  decoder_embedding_x = DataEmbedding(dim_model, embed_type, frequency, dropout_rate, training)(decoder_x, decoder_x_mark)\n",
        "\n",
        "  dec_layers = [ dec_idx for dec_idx in range(dec_layers)]\n",
        "\n",
        "  decoder_output = Decoder(decoder_embedding_x, E, dec_layers, dim_model, heads, attn, factor, expansion,\n",
        "              dropout_rate, activation, training, x_mask, cross_mask, True)\n",
        "  \n",
        "  output = Dense(7)(decoder_output)\n",
        "  output = Lambda(lambda x: x[:, -24: ,:])(output)\n",
        "  model = Model(inputs=[encoder_x, decoder_x, encoder_x_mark, decoder_x_mark], outputs=output, name=\"Informer\")\n",
        "\n",
        "  return model"
      ],
      "execution_count": null,
      "outputs": []
    },
    {
      "cell_type": "code",
      "metadata": {
        "colab": {
          "base_uri": "https://localhost:8080/"
        },
        "id": "kZ0B-irL80AW",
        "outputId": "77cb6985-d9a7-4e01-bf48-b224b3b250ac"
      },
      "source": [
        "model = Informer(enc_layers=1, dec_layers=1, training=True)\n",
        "model.summary()"
      ],
      "execution_count": null,
      "outputs": [
        {
          "output_type": "stream",
          "name": "stdout",
          "text": [
            "Model: \"Informer\"\n",
            "__________________________________________________________________________________________________\n",
            "Layer (type)                    Output Shape         Param #     Connected to                     \n",
            "==================================================================================================\n",
            "input_1 (InputLayer)            [(32, 96, 7)]        0                                            \n",
            "__________________________________________________________________________________________________\n",
            "input_2 (InputLayer)            [(32, 96, 4)]        0                                            \n",
            "__________________________________________________________________________________________________\n",
            "data_embedding (DataEmbedding)  (32, 96, 512)        50176       input_1[0][0]                    \n",
            "                                                                 input_2[0][0]                    \n",
            "__________________________________________________________________________________________________\n",
            "tf.compat.v1.shape (TFOpLambda) (3,)                 0           data_embedding[0][0]             \n",
            "__________________________________________________________________________________________________\n",
            "tf.__operators__.getitem_1 (Sli ()                   0           tf.compat.v1.shape[0][0]         \n",
            "__________________________________________________________________________________________________\n",
            "dense_48 (Dense)                (32, 96, 512)        262656      data_embedding[0][0]             \n",
            "__________________________________________________________________________________________________\n",
            "tf.__operators__.getitem_3 (Sli ()                   0           tf.compat.v1.shape[0][0]         \n",
            "__________________________________________________________________________________________________\n",
            "tf.reshape (TFOpLambda)         (32, 96, 8, 64)      0           dense_48[0][0]                   \n",
            "                                                                 tf.__operators__.getitem_1[0][0] \n",
            "                                                                 tf.__operators__.getitem_3[0][0] \n",
            "__________________________________________________________________________________________________\n",
            "tf.compat.v1.shape_1 (TFOpLambd (3,)                 0           data_embedding[0][0]             \n",
            "__________________________________________________________________________________________________\n",
            "tf.compat.v1.transpose (TFOpLam (32, 8, 96, 64)      0           tf.reshape[0][0]                 \n",
            "__________________________________________________________________________________________________\n",
            "dense_50 (Dense)                (32, 96, 512)        262656      data_embedding[0][0]             \n",
            "__________________________________________________________________________________________________\n",
            "tf.__operators__.getitem_2 (Sli ()                   0           tf.compat.v1.shape_1[0][0]       \n",
            "__________________________________________________________________________________________________\n",
            "tf.__operators__.getitem_4 (Sli ()                   0           tf.compat.v1.shape_1[0][0]       \n",
            "__________________________________________________________________________________________________\n",
            "tf.expand_dims (TFOpLambda)     (32, 8, 1, 96, 64)   0           tf.compat.v1.transpose[0][0]     \n",
            "__________________________________________________________________________________________________\n",
            "input_3 (InputLayer)            [(32, 72, 7)]        0                                            \n",
            "__________________________________________________________________________________________________\n",
            "input_4 (InputLayer)            [(32, 72, 4)]        0                                            \n",
            "__________________________________________________________________________________________________\n",
            "tf.reshape_2 (TFOpLambda)       (32, 96, 8, 64)      0           dense_50[0][0]                   \n",
            "                                                                 tf.__operators__.getitem_2[0][0] \n",
            "                                                                 tf.__operators__.getitem_4[0][0] \n",
            "__________________________________________________________________________________________________\n",
            "tf.broadcast_to (TFOpLambda)    (32, 8, 96, 96, 64)  0           tf.expand_dims[0][0]             \n",
            "__________________________________________________________________________________________________\n",
            "data_embedding_1 (DataEmbedding (32, 72, 512)        50176       input_3[0][0]                    \n",
            "                                                                 input_4[0][0]                    \n",
            "__________________________________________________________________________________________________\n",
            "tf.compat.v1.transpose_1 (TFOpL (32, 8, 96, 64)      0           tf.reshape_2[0][0]               \n",
            "__________________________________________________________________________________________________\n",
            "tf.compat.v1.gather_nd (TFOpLam (32, 8, 96, 25, 64)  0           tf.broadcast_to[0][0]            \n",
            "__________________________________________________________________________________________________\n",
            "tf.compat.v1.shape_3 (TFOpLambd (3,)                 0           data_embedding_1[0][0]           \n",
            "__________________________________________________________________________________________________\n",
            "tf.expand_dims_1 (TFOpLambda)   (32, 8, 96, 1, 64)   0           tf.compat.v1.transpose_1[0][0]   \n",
            "__________________________________________________________________________________________________\n",
            "tf.compat.v1.transpose_3 (TFOpL (32, 8, 96, 64, 25)  0           tf.compat.v1.gather_nd[0][0]     \n",
            "__________________________________________________________________________________________________\n",
            "tf.__operators__.getitem_7 (Sli ()                   0           tf.compat.v1.shape_3[0][0]       \n",
            "__________________________________________________________________________________________________\n",
            "dense_52 (Dense)                (32, 72, 512)        262656      data_embedding_1[0][0]           \n",
            "__________________________________________________________________________________________________\n",
            "tf.__operators__.getitem_9 (Sli ()                   0           tf.compat.v1.shape_3[0][0]       \n",
            "__________________________________________________________________________________________________\n",
            "tf.linalg.matmul (TFOpLambda)   (32, 8, 96, 1, 25)   0           tf.expand_dims_1[0][0]           \n",
            "                                                                 tf.compat.v1.transpose_3[0][0]   \n",
            "__________________________________________________________________________________________________\n",
            "tf.reshape_4 (TFOpLambda)       (32, 72, 8, 64)      0           dense_52[0][0]                   \n",
            "                                                                 tf.__operators__.getitem_7[0][0] \n",
            "                                                                 tf.__operators__.getitem_9[0][0] \n",
            "__________________________________________________________________________________________________\n",
            "tf.compat.v1.squeeze (TFOpLambd (32, 8, 96, 25)      0           tf.linalg.matmul[0][0]           \n",
            "__________________________________________________________________________________________________\n",
            "tf.compat.v1.shape_4 (TFOpLambd (3,)                 0           data_embedding_1[0][0]           \n",
            "__________________________________________________________________________________________________\n",
            "tf.compat.v1.transpose_6 (TFOpL (32, 8, 72, 64)      0           tf.reshape_4[0][0]               \n",
            "__________________________________________________________________________________________________\n",
            "tf.math.reduce_sum (TFOpLambda) (32, 8, 96)          0           tf.compat.v1.squeeze[0][0]       \n",
            "__________________________________________________________________________________________________\n",
            "dense_54 (Dense)                (32, 72, 512)        262656      data_embedding_1[0][0]           \n",
            "__________________________________________________________________________________________________\n",
            "tf.__operators__.getitem_8 (Sli ()                   0           tf.compat.v1.shape_4[0][0]       \n",
            "__________________________________________________________________________________________________\n",
            "tf.__operators__.getitem_10 (Sl ()                   0           tf.compat.v1.shape_4[0][0]       \n",
            "__________________________________________________________________________________________________\n",
            "tf.expand_dims_3 (TFOpLambda)   (32, 8, 1, 72, 64)   0           tf.compat.v1.transpose_6[0][0]   \n",
            "__________________________________________________________________________________________________\n",
            "tf.math.reduce_max (TFOpLambda) (32, 8, 96)          0           tf.compat.v1.squeeze[0][0]       \n",
            "__________________________________________________________________________________________________\n",
            "tf.math.truediv (TFOpLambda)    (32, 8, 96)          0           tf.math.reduce_sum[0][0]         \n",
            "__________________________________________________________________________________________________\n",
            "tf.reshape_6 (TFOpLambda)       (32, 72, 8, 64)      0           dense_54[0][0]                   \n",
            "                                                                 tf.__operators__.getitem_8[0][0] \n",
            "                                                                 tf.__operators__.getitem_10[0][0]\n",
            "__________________________________________________________________________________________________\n",
            "tf.broadcast_to_2 (TFOpLambda)  (32, 8, 72, 72, 64)  0           tf.expand_dims_3[0][0]           \n",
            "__________________________________________________________________________________________________\n",
            "tf.math.subtract (TFOpLambda)   (32, 8, 96)          0           tf.math.reduce_max[0][0]         \n",
            "                                                                 tf.math.truediv[0][0]            \n",
            "__________________________________________________________________________________________________\n",
            "tf.compat.v1.transpose_7 (TFOpL (32, 8, 72, 64)      0           tf.reshape_6[0][0]               \n",
            "__________________________________________________________________________________________________\n",
            "tf.compat.v1.gather_nd_2 (TFOpL (32, 8, 72, 25, 64)  0           tf.broadcast_to_2[0][0]          \n",
            "__________________________________________________________________________________________________\n",
            "tf.math.top_k (TFOpLambda)      TopKV2(values=(32, 8 0           tf.math.subtract[0][0]           \n",
            "__________________________________________________________________________________________________\n",
            "tf.expand_dims_4 (TFOpLambda)   (32, 8, 72, 1, 64)   0           tf.compat.v1.transpose_7[0][0]   \n",
            "__________________________________________________________________________________________________\n",
            "tf.compat.v1.transpose_9 (TFOpL (32, 8, 72, 64, 25)  0           tf.compat.v1.gather_nd_2[0][0]   \n",
            "__________________________________________________________________________________________________\n",
            "tf.compat.v1.shape_2 (TFOpLambd (3,)                 0           data_embedding[0][0]             \n",
            "__________________________________________________________________________________________________\n",
            "tf.tile (TFOpLambda)            (32, 8, 25)          0           tf.math.top_k[0][1]              \n",
            "__________________________________________________________________________________________________\n",
            "tf.linalg.matmul_3 (TFOpLambda) (32, 8, 72, 1, 25)   0           tf.expand_dims_4[0][0]           \n",
            "                                                                 tf.compat.v1.transpose_9[0][0]   \n",
            "__________________________________________________________________________________________________\n",
            "dense_49 (Dense)                (32, 96, 512)        262656      data_embedding[0][0]             \n",
            "__________________________________________________________________________________________________\n",
            "tf.__operators__.getitem_5 (Sli ()                   0           tf.compat.v1.shape_2[0][0]       \n",
            "__________________________________________________________________________________________________\n",
            "tf.stack (TFOpLambda)           (32, 8, 25, 3)       0           tf.tile[0][0]                    \n",
            "__________________________________________________________________________________________________\n",
            "tf.compat.v1.squeeze_1 (TFOpLam (32, 8, 72, 25)      0           tf.linalg.matmul_3[0][0]         \n",
            "__________________________________________________________________________________________________\n",
            "tf.reshape_1 (TFOpLambda)       (32, 96, 8, 64)      0           dense_49[0][0]                   \n",
            "                                                                 tf.__operators__.getitem_1[0][0] \n",
            "                                                                 tf.__operators__.getitem_5[0][0] \n",
            "__________________________________________________________________________________________________\n",
            "tf.compat.v1.gather_nd_1 (TFOpL (32, 8, 25, 64)      0           tf.compat.v1.transpose_1[0][0]   \n",
            "                                                                 tf.stack[0][0]                   \n",
            "__________________________________________________________________________________________________\n",
            "tf.compat.v1.transpose_4 (TFOpL (32, 8, 64, 96)      0           tf.compat.v1.transpose[0][0]     \n",
            "__________________________________________________________________________________________________\n",
            "tf.math.reduce_sum_1 (TFOpLambd (32, 8, 72)          0           tf.compat.v1.squeeze_1[0][0]     \n",
            "__________________________________________________________________________________________________\n",
            "tf.compat.v1.transpose_2 (TFOpL (32, 8, 96, 64)      0           tf.reshape_1[0][0]               \n",
            "__________________________________________________________________________________________________\n",
            "tf.linalg.matmul_1 (TFOpLambda) (32, 8, 25, 96)      0           tf.compat.v1.gather_nd_1[0][0]   \n",
            "                                                                 tf.compat.v1.transpose_4[0][0]   \n",
            "__________________________________________________________________________________________________\n",
            "tf.math.reduce_max_1 (TFOpLambd (32, 8, 72)          0           tf.compat.v1.squeeze_1[0][0]     \n",
            "__________________________________________________________________________________________________\n",
            "tf.math.truediv_2 (TFOpLambda)  (32, 8, 72)          0           tf.math.reduce_sum_1[0][0]       \n",
            "__________________________________________________________________________________________________\n",
            "tf.math.reduce_mean (TFOpLambda (32, 8, 64)          0           tf.compat.v1.transpose_2[0][0]   \n",
            "__________________________________________________________________________________________________\n",
            "tf.math.multiply (TFOpLambda)   (32, 8, 25, 96)      0           tf.linalg.matmul_1[0][0]         \n",
            "__________________________________________________________________________________________________\n",
            "tf.math.subtract_1 (TFOpLambda) (32, 8, 72)          0           tf.math.reduce_max_1[0][0]       \n",
            "                                                                 tf.math.truediv_2[0][0]          \n",
            "__________________________________________________________________________________________________\n",
            "tf.expand_dims_2 (TFOpLambda)   (32, 8, 1, 64)       0           tf.math.reduce_mean[0][0]        \n",
            "__________________________________________________________________________________________________\n",
            "tf.math.truediv_1 (TFOpLambda)  (32, 8, 25, 96)      0           tf.math.multiply[0][0]           \n",
            "__________________________________________________________________________________________________\n",
            "tf.math.top_k_1 (TFOpLambda)    TopKV2(values=(32, 8 0           tf.math.subtract_1[0][0]         \n",
            "__________________________________________________________________________________________________\n",
            "tf.broadcast_to_1 (TFOpLambda)  (32, 8, 96, 64)      0           tf.expand_dims_2[0][0]           \n",
            "__________________________________________________________________________________________________\n",
            "tf.nn.softmax (TFOpLambda)      (32, 8, 25, 96)      0           tf.math.truediv_1[0][0]          \n",
            "__________________________________________________________________________________________________\n",
            "tf.tile_1 (TFOpLambda)          (32, 8, 25)          0           tf.math.top_k_1[0][1]            \n",
            "__________________________________________________________________________________________________\n",
            "tf.identity (TFOpLambda)        (32, 8, 96, 64)      0           tf.broadcast_to_1[0][0]          \n",
            "__________________________________________________________________________________________________\n",
            "tf.stack_1 (TFOpLambda)         (32, 8, 25, 3)       0           tf.tile[0][0]                    \n",
            "__________________________________________________________________________________________________\n",
            "tf.linalg.matmul_2 (TFOpLambda) (32, 8, 25, 64)      0           tf.nn.softmax[0][0]              \n",
            "                                                                 tf.compat.v1.transpose_2[0][0]   \n",
            "__________________________________________________________________________________________________\n",
            "tf.stack_2 (TFOpLambda)         (32, 8, 25, 3)       0           tf.tile_1[0][0]                  \n",
            "__________________________________________________________________________________________________\n",
            "tf.tensor_scatter_nd_update (TF (32, 8, 96, 64)      0           tf.identity[0][0]                \n",
            "                                                                 tf.stack_1[0][0]                 \n",
            "                                                                 tf.linalg.matmul_2[0][0]         \n",
            "__________________________________________________________________________________________________\n",
            "tf.stack_3 (TFOpLambda)         (32, 8, 25, 3)       0           tf.tile_1[0][0]                  \n",
            "__________________________________________________________________________________________________\n",
            "tf.compat.v1.gather_nd_3 (TFOpL (32, 8, 25, 64)      0           tf.compat.v1.transpose_7[0][0]   \n",
            "                                                                 tf.stack_2[0][0]                 \n",
            "__________________________________________________________________________________________________\n",
            "tf.compat.v1.transpose_10 (TFOp (32, 8, 64, 72)      0           tf.compat.v1.transpose_6[0][0]   \n",
            "__________________________________________________________________________________________________\n",
            "tf.compat.v1.transpose_5 (TFOpL (32, 96, 8, 64)      0           tf.tensor_scatter_nd_update[0][0]\n",
            "__________________________________________________________________________________________________\n",
            "tf.compat.v1.gather_nd_4 (TFOpL (32, 8, 25, 72)      0           tf.stack_3[0][0]                 \n",
            "__________________________________________________________________________________________________\n",
            "tf.linalg.matmul_4 (TFOpLambda) (32, 8, 25, 72)      0           tf.compat.v1.gather_nd_3[0][0]   \n",
            "                                                                 tf.compat.v1.transpose_10[0][0]  \n",
            "__________________________________________________________________________________________________\n",
            "tf.reshape_3 (TFOpLambda)       (32, 96, 512)        0           tf.compat.v1.transpose_5[0][0]   \n",
            "__________________________________________________________________________________________________\n",
            "tf.compat.v1.shape_5 (TFOpLambd (3,)                 0           data_embedding_1[0][0]           \n",
            "__________________________________________________________________________________________________\n",
            "tf.reshape_7 (TFOpLambda)       (32, 8, 25, 72)      0           tf.compat.v1.gather_nd_4[0][0]   \n",
            "__________________________________________________________________________________________________\n",
            "tf.math.multiply_1 (TFOpLambda) (32, 8, 25, 72)      0           tf.linalg.matmul_4[0][0]         \n",
            "__________________________________________________________________________________________________\n",
            "dense_51 (Dense)                (32, 96, 512)        262656      tf.reshape_3[0][0]               \n",
            "__________________________________________________________________________________________________\n",
            "dense_53 (Dense)                (32, 72, 512)        262656      data_embedding_1[0][0]           \n",
            "__________________________________________________________________________________________________\n",
            "tf.__operators__.getitem_11 (Sl ()                   0           tf.compat.v1.shape_5[0][0]       \n",
            "__________________________________________________________________________________________________\n",
            "tf.cast (TFOpLambda)            (32, 8, 25, 72)      0           tf.reshape_7[0][0]               \n",
            "__________________________________________________________________________________________________\n",
            "tf.math.truediv_3 (TFOpLambda)  (32, 8, 25, 72)      0           tf.math.multiply_1[0][0]         \n",
            "__________________________________________________________________________________________________\n",
            "dropout_30 (Dropout)            (32, 96, 512)        0           dense_51[0][0]                   \n",
            "__________________________________________________________________________________________________\n",
            "tf.reshape_5 (TFOpLambda)       (32, 72, 8, 64)      0           dense_53[0][0]                   \n",
            "                                                                 tf.__operators__.getitem_7[0][0] \n",
            "                                                                 tf.__operators__.getitem_11[0][0]\n",
            "__________________________________________________________________________________________________\n",
            "tf.where (TFOpLambda)           (32, 8, 25, 72)      0           tf.cast[0][0]                    \n",
            "                                                                 tf.math.truediv_3[0][0]          \n",
            "__________________________________________________________________________________________________\n",
            "add_12 (Add)                    (32, 96, 512)        0           data_embedding[0][0]             \n",
            "                                                                 dropout_30[0][0]                 \n",
            "__________________________________________________________________________________________________\n",
            "tf.compat.v1.transpose_8 (TFOpL (32, 8, 72, 64)      0           tf.reshape_5[0][0]               \n",
            "__________________________________________________________________________________________________\n",
            "tf.nn.softmax_1 (TFOpLambda)    (32, 8, 25, 72)      0           tf.where[0][0]                   \n",
            "__________________________________________________________________________________________________\n",
            "layer_normalization_20 (LayerNo (32, 96, 512)        1024        add_12[0][0]                     \n",
            "__________________________________________________________________________________________________\n",
            "tf.math.cumsum (TFOpLambda)     (32, 8, 72, 64)      0           tf.compat.v1.transpose_8[0][0]   \n",
            "__________________________________________________________________________________________________\n",
            "tf.linalg.matmul_5 (TFOpLambda) (32, 8, 25, 64)      0           tf.nn.softmax_1[0][0]            \n",
            "                                                                 tf.compat.v1.transpose_8[0][0]   \n",
            "__________________________________________________________________________________________________\n",
            "conv1d_16 (Conv1D)              (32, 96, 2048)       1050624     layer_normalization_20[0][0]     \n",
            "__________________________________________________________________________________________________\n",
            "tf.tensor_scatter_nd_update_2 ( (32, 8, 72, 64)      0           tf.math.cumsum[0][0]             \n",
            "                                                                 tf.stack_3[0][0]                 \n",
            "                                                                 tf.linalg.matmul_5[0][0]         \n",
            "__________________________________________________________________________________________________\n",
            "elu_7 (ELU)                     (32, 96, 2048)       0           conv1d_16[0][0]                  \n",
            "__________________________________________________________________________________________________\n",
            "tf.compat.v1.transpose_11 (TFOp (32, 72, 8, 64)      0           tf.tensor_scatter_nd_update_2[0][\n",
            "__________________________________________________________________________________________________\n",
            "dropout_31 (Dropout)            (32, 96, 2048)       0           elu_7[0][0]                      \n",
            "__________________________________________________________________________________________________\n",
            "tf.reshape_8 (TFOpLambda)       (32, 72, 512)        0           tf.compat.v1.transpose_11[0][0]  \n",
            "__________________________________________________________________________________________________\n",
            "conv1d_17 (Conv1D)              (32, 96, 512)        1049088     dropout_31[0][0]                 \n",
            "__________________________________________________________________________________________________\n",
            "dense_55 (Dense)                (32, 72, 512)        262656      tf.reshape_8[0][0]               \n",
            "__________________________________________________________________________________________________\n",
            "dropout_32 (Dropout)            (32, 96, 512)        0           conv1d_17[0][0]                  \n",
            "__________________________________________________________________________________________________\n",
            "dropout_34 (Dropout)            (32, 72, 512)        0           dense_55[0][0]                   \n",
            "__________________________________________________________________________________________________\n",
            "tf.__operators__.add (TFOpLambd (32, 96, 512)        0           layer_normalization_20[0][0]     \n",
            "                                                                 dropout_32[0][0]                 \n",
            "__________________________________________________________________________________________________\n",
            "add_14 (Add)                    (32, 72, 512)        0           data_embedding_1[0][0]           \n",
            "                                                                 dropout_34[0][0]                 \n",
            "__________________________________________________________________________________________________\n",
            "layer_normalization_21 (LayerNo (32, 96, 512)        1024        tf.__operators__.add[0][0]       \n",
            "__________________________________________________________________________________________________\n",
            "layer_normalization_23 (LayerNo (32, 72, 512)        1024        add_14[0][0]                     \n",
            "__________________________________________________________________________________________________\n",
            "layer_normalization_22 (LayerNo (32, 96, 512)        1024        layer_normalization_21[0][0]     \n",
            "__________________________________________________________________________________________________\n",
            "tf.compat.v1.shape_7 (TFOpLambd (3,)                 0           layer_normalization_23[0][0]     \n",
            "__________________________________________________________________________________________________\n",
            "tf.compat.v1.shape_6 (TFOpLambd (3,)                 0           layer_normalization_22[0][0]     \n",
            "__________________________________________________________________________________________________\n",
            "dense_58 (Dense)                (32, 72, 512)        262656      layer_normalization_23[0][0]     \n",
            "__________________________________________________________________________________________________\n",
            "tf.__operators__.getitem_14 (Sl ()                   0           tf.compat.v1.shape_7[0][0]       \n",
            "__________________________________________________________________________________________________\n",
            "tf.__operators__.getitem_16 (Sl ()                   0           tf.compat.v1.shape_7[0][0]       \n",
            "__________________________________________________________________________________________________\n",
            "dense_56 (Dense)                (32, 96, 512)        262656      layer_normalization_22[0][0]     \n",
            "__________________________________________________________________________________________________\n",
            "tf.__operators__.getitem_13 (Sl ()                   0           tf.compat.v1.shape_6[0][0]       \n",
            "__________________________________________________________________________________________________\n",
            "tf.__operators__.getitem_15 (Sl ()                   0           tf.compat.v1.shape_6[0][0]       \n",
            "__________________________________________________________________________________________________\n",
            "tf.compat.v1.shape_8 (TFOpLambd (3,)                 0           layer_normalization_22[0][0]     \n",
            "__________________________________________________________________________________________________\n",
            "tf.reshape_11 (TFOpLambda)      (32, 72, 8, 64)      0           dense_58[0][0]                   \n",
            "                                                                 tf.__operators__.getitem_14[0][0]\n",
            "                                                                 tf.__operators__.getitem_16[0][0]\n",
            "__________________________________________________________________________________________________\n",
            "tf.reshape_9 (TFOpLambda)       (32, 96, 8, 64)      0           dense_56[0][0]                   \n",
            "                                                                 tf.__operators__.getitem_13[0][0]\n",
            "                                                                 tf.__operators__.getitem_15[0][0]\n",
            "__________________________________________________________________________________________________\n",
            "dense_57 (Dense)                (32, 96, 512)        262656      layer_normalization_22[0][0]     \n",
            "__________________________________________________________________________________________________\n",
            "tf.__operators__.getitem_17 (Sl ()                   0           tf.compat.v1.shape_8[0][0]       \n",
            "__________________________________________________________________________________________________\n",
            "tf.einsum (TFOpLambda)          (32, 8, 72, 96)      0           tf.reshape_11[0][0]              \n",
            "                                                                 tf.reshape_9[0][0]               \n",
            "__________________________________________________________________________________________________\n",
            "tf.reshape_10 (TFOpLambda)      (32, 96, 8, 64)      0           dense_57[0][0]                   \n",
            "                                                                 tf.__operators__.getitem_13[0][0]\n",
            "                                                                 tf.__operators__.getitem_17[0][0]\n",
            "__________________________________________________________________________________________________\n",
            "tf.compat.v1.shape_9 (TFOpLambd (4,)                 0           tf.reshape_11[0][0]              \n",
            "__________________________________________________________________________________________________\n",
            "tf.einsum_1 (TFOpLambda)        (32, 72, 8, 64)      0           tf.einsum[0][0]                  \n",
            "                                                                 tf.reshape_10[0][0]              \n",
            "__________________________________________________________________________________________________\n",
            "tf.__operators__.getitem_18 (Sl ()                   0           tf.compat.v1.shape_9[0][0]       \n",
            "__________________________________________________________________________________________________\n",
            "tf.__operators__.getitem_19 (Sl ()                   0           tf.compat.v1.shape_9[0][0]       \n",
            "__________________________________________________________________________________________________\n",
            "tf.reshape_12 (TFOpLambda)      (32, 72, 512)        0           tf.einsum_1[0][0]                \n",
            "                                                                 tf.__operators__.getitem_18[0][0]\n",
            "                                                                 tf.__operators__.getitem_19[0][0]\n",
            "__________________________________________________________________________________________________\n",
            "dense_59 (Dense)                (32, 72, 512)        262656      tf.reshape_12[0][0]              \n",
            "__________________________________________________________________________________________________\n",
            "dropout_36 (Dropout)            (32, 72, 512)        0           dense_59[0][0]                   \n",
            "__________________________________________________________________________________________________\n",
            "add_15 (Add)                    (32, 72, 512)        0           layer_normalization_23[0][0]     \n",
            "                                                                 dropout_36[0][0]                 \n",
            "__________________________________________________________________________________________________\n",
            "layer_normalization_24 (LayerNo (32, 72, 512)        1024        add_15[0][0]                     \n",
            "__________________________________________________________________________________________________\n",
            "conv1d_19 (Conv1D)              (32, 72, 2048)       1050624     layer_normalization_24[0][0]     \n",
            "__________________________________________________________________________________________________\n",
            "elu_8 (ELU)                     (32, 72, 2048)       0           conv1d_19[0][0]                  \n",
            "__________________________________________________________________________________________________\n",
            "dropout_37 (Dropout)            (32, 72, 2048)       0           elu_8[0][0]                      \n",
            "__________________________________________________________________________________________________\n",
            "conv1d_20 (Conv1D)              (32, 72, 512)        1049088     dropout_37[0][0]                 \n",
            "__________________________________________________________________________________________________\n",
            "dropout_38 (Dropout)            (32, 72, 512)        0           conv1d_20[0][0]                  \n",
            "__________________________________________________________________________________________________\n",
            "tf.__operators__.add_1 (TFOpLam (32, 72, 512)        0           layer_normalization_24[0][0]     \n",
            "                                                                 dropout_38[0][0]                 \n",
            "__________________________________________________________________________________________________\n",
            "layer_normalization_25 (LayerNo (32, 72, 512)        1024        tf.__operators__.add_1[0][0]     \n",
            "__________________________________________________________________________________________________\n",
            "layer_normalization_26 (LayerNo (32, 72, 512)        1024        layer_normalization_25[0][0]     \n",
            "__________________________________________________________________________________________________\n",
            "dense_60 (Dense)                (32, 72, 7)          3591        layer_normalization_26[0][0]     \n",
            "__________________________________________________________________________________________________\n",
            "lambda (Lambda)                 (32, 24, 7)          0           dense_60[0][0]                   \n",
            "==================================================================================================\n",
            "Total params: 7,462,407\n",
            "Trainable params: 7,384,583\n",
            "Non-trainable params: 77,824\n",
            "__________________________________________________________________________________________________\n"
          ]
        }
      ]
    },
    {
      "cell_type": "markdown",
      "metadata": {
        "id": "8pVWCKVQEA1b"
      },
      "source": [
        "# **Dataset**"
      ]
    },
    {
      "cell_type": "code",
      "metadata": {
        "id": "FXV-cLbiD_Lw"
      },
      "source": [
        "import os\n",
        "import pandas as pd\n",
        "import seaborn as sns\n",
        "import matplotlib.pyplot as plt\n",
        "\n",
        "from sklearn.preprocessing import StandardScaler\n",
        "\n",
        "sns.set_style('darkgrid')"
      ],
      "execution_count": null,
      "outputs": []
    },
    {
      "cell_type": "code",
      "metadata": {
        "id": "11W4IW3BO3Mx"
      },
      "source": [
        "root_path = '/content/'\n",
        "data_path ='ETTh1.csv'\n",
        "timeenc = 0\n",
        "frequency = 'h'\n",
        "features = 'MS'\n",
        "target = 'OT'\n",
        "seq_len = 96\n",
        "label_len = 48\n",
        "pred_len = 24\n",
        "scale = True"
      ],
      "execution_count": null,
      "outputs": []
    },
    {
      "cell_type": "code",
      "metadata": {
        "colab": {
          "base_uri": "https://localhost:8080/",
          "height": 204
        },
        "id": "1OcgSqRSMV0k",
        "outputId": "96f503ce-6419-4b42-e230-f29e96300495"
      },
      "source": [
        "etth_data = pd.read_csv(root_path + data_path)\n",
        "etth_df = pd.DataFrame(etth_data)\n",
        "etth_df = etth_df.drop(['date'], axis=1)\n",
        "etth_df.head()"
      ],
      "execution_count": null,
      "outputs": [
        {
          "output_type": "execute_result",
          "data": {
            "text/html": [
              "<div>\n",
              "<style scoped>\n",
              "    .dataframe tbody tr th:only-of-type {\n",
              "        vertical-align: middle;\n",
              "    }\n",
              "\n",
              "    .dataframe tbody tr th {\n",
              "        vertical-align: top;\n",
              "    }\n",
              "\n",
              "    .dataframe thead th {\n",
              "        text-align: right;\n",
              "    }\n",
              "</style>\n",
              "<table border=\"1\" class=\"dataframe\">\n",
              "  <thead>\n",
              "    <tr style=\"text-align: right;\">\n",
              "      <th></th>\n",
              "      <th>HUFL</th>\n",
              "      <th>HULL</th>\n",
              "      <th>MUFL</th>\n",
              "      <th>MULL</th>\n",
              "      <th>LUFL</th>\n",
              "      <th>LULL</th>\n",
              "      <th>OT</th>\n",
              "    </tr>\n",
              "  </thead>\n",
              "  <tbody>\n",
              "    <tr>\n",
              "      <th>0</th>\n",
              "      <td>5.827</td>\n",
              "      <td>2.009</td>\n",
              "      <td>1.599</td>\n",
              "      <td>0.462</td>\n",
              "      <td>4.203</td>\n",
              "      <td>1.340</td>\n",
              "      <td>30.531000</td>\n",
              "    </tr>\n",
              "    <tr>\n",
              "      <th>1</th>\n",
              "      <td>5.693</td>\n",
              "      <td>2.076</td>\n",
              "      <td>1.492</td>\n",
              "      <td>0.426</td>\n",
              "      <td>4.142</td>\n",
              "      <td>1.371</td>\n",
              "      <td>27.787001</td>\n",
              "    </tr>\n",
              "    <tr>\n",
              "      <th>2</th>\n",
              "      <td>5.157</td>\n",
              "      <td>1.741</td>\n",
              "      <td>1.279</td>\n",
              "      <td>0.355</td>\n",
              "      <td>3.777</td>\n",
              "      <td>1.218</td>\n",
              "      <td>27.787001</td>\n",
              "    </tr>\n",
              "    <tr>\n",
              "      <th>3</th>\n",
              "      <td>5.090</td>\n",
              "      <td>1.942</td>\n",
              "      <td>1.279</td>\n",
              "      <td>0.391</td>\n",
              "      <td>3.807</td>\n",
              "      <td>1.279</td>\n",
              "      <td>25.044001</td>\n",
              "    </tr>\n",
              "    <tr>\n",
              "      <th>4</th>\n",
              "      <td>5.358</td>\n",
              "      <td>1.942</td>\n",
              "      <td>1.492</td>\n",
              "      <td>0.462</td>\n",
              "      <td>3.868</td>\n",
              "      <td>1.279</td>\n",
              "      <td>21.948000</td>\n",
              "    </tr>\n",
              "  </tbody>\n",
              "</table>\n",
              "</div>"
            ],
            "text/plain": [
              "    HUFL   HULL   MUFL   MULL   LUFL   LULL         OT\n",
              "0  5.827  2.009  1.599  0.462  4.203  1.340  30.531000\n",
              "1  5.693  2.076  1.492  0.426  4.142  1.371  27.787001\n",
              "2  5.157  1.741  1.279  0.355  3.777  1.218  27.787001\n",
              "3  5.090  1.942  1.279  0.391  3.807  1.279  25.044001\n",
              "4  5.358  1.942  1.492  0.462  3.868  1.279  21.948000"
            ]
          },
          "metadata": {},
          "execution_count": 35
        }
      ]
    },
    {
      "cell_type": "code",
      "metadata": {
        "id": "Ii8ubYm_QY6j"
      },
      "source": [
        "# sns.pairplot(data=etth_data)"
      ],
      "execution_count": null,
      "outputs": []
    },
    {
      "cell_type": "code",
      "metadata": {
        "colab": {
          "base_uri": "https://localhost:8080/",
          "height": 282
        },
        "id": "dy5vwc_JM-78",
        "outputId": "be01bc24-bd50-4809-f54f-ffa7e8a50b71"
      },
      "source": [
        "sns.lineplot(data=etth_data['OT'][16500:])"
      ],
      "execution_count": null,
      "outputs": [
        {
          "output_type": "execute_result",
          "data": {
            "text/plain": [
              "<matplotlib.axes._subplots.AxesSubplot at 0x7f82bcc9e050>"
            ]
          },
          "metadata": {},
          "execution_count": 37
        },
        {
          "output_type": "display_data",
          "data": {
            "image/png": "[encoded data removed]",
            "text/plain": [
              "<Figure size 432x288 with 1 Axes>"
            ]
          },
          "metadata": {}
        }
      ]
    },
    {
      "cell_type": "code",
      "metadata": {
        "id": "PaiFEkkjKfpO"
      },
      "source": [
        "def time_features(dates, timeenc, frequency):\n",
        "   if timeenc == 0:\n",
        "     dates['month'] = dates.date.apply(lambda row: row.month, 1)\n",
        "     dates['day'] = dates.date.apply(lambda row: row.day, 1)\n",
        "     dates['weekday'] = dates.date.apply(lambda row: row.weekday(), 1)\n",
        "     dates['hour'] = dates.date.apply(lambda row: row.hour, 1)\n",
        "     dates['minute'] = dates.date.apply(lambda row: row.minute, 1)\n",
        "     dates['minute'] = dates.minute.map(lambda x: x // 15)\n",
        "     frequency_map = {'y':[], 'm':['month'], 'w':['month'], 'd':['month','day','weekday'], \n",
        "                      'b':['month','day','weekday'], 'h':['month','day','weekday','hour'],\n",
        "                      't':['month','day','weekday','hour','minute']\n",
        "                      }\n",
        "     return dates[frequency_map[frequency.lower()]].values\n"
      ],
      "execution_count": null,
      "outputs": []
    },
    {
      "cell_type": "code",
      "metadata": {
        "id": "P4kHBcL9XWTa"
      },
      "source": [
        "def read_data(df_raw, features, flag_id) -> Tuple[np.ndarray, np.ndarray]:\n",
        "\n",
        "  scaler = StandardScaler()\n",
        "  \n",
        "  #Train/Test/Val = 12/4/4 months\n",
        "  border1s = [0, 12*30*24 - seq_len,  12*30*24+4*30*24 - seq_len]\n",
        "  border2s = [12*30*24, 12*30*24+4*30*24, 12*30*24+8*30*24]\n",
        "  \n",
        "  border1 = border1s[flag_id]\n",
        "  border2 = border2s[flag_id]\n",
        "\n",
        "  if features == \"M\" or features == \"MS\":\n",
        "    cols = df_raw.columns[1:]\n",
        "    df_data = df_raw[cols]\n",
        "  elif features == \"S\":\n",
        "    df_data = df_raw[[target]]\n",
        " \n",
        "  if scale:\n",
        "    train_data = df_data[border1s[0] : border2s[0]]\n",
        "    scaler.fit(train_data)\n",
        "    data = scaler.transform(df_data.values)\n",
        "  else:\n",
        "    data = df_data.values\n",
        " \n",
        "  df_stamp = df_raw[['date']][border1:border2]\n",
        "  df_stamp['date'] = pd.to_datetime(df_stamp.date)\n",
        "\n",
        "  data_stamp = time_features(df_stamp, timeenc, frequency)\n",
        "  data_x = data[border1:border2]\n",
        "\n",
        "  return data_x, data_stamp"
      ],
      "execution_count": null,
      "outputs": []
    },
    {
      "cell_type": "code",
      "metadata": {
        "id": "fvpax089T9xj"
      },
      "source": [
        "def split_window(window) -> tf.Tensor:\n",
        "  y_start = seq_len - label_len\n",
        "  y_end = y_start + label_len + pred_len\n",
        "  return window[:seq_len], window[y_start:y_end]"
      ],
      "execution_count": null,
      "outputs": []
    },
    {
      "cell_type": "code",
      "metadata": {
        "id": "rCyvdOJbUBCU"
      },
      "source": [
        "def process_window(window, window_mark) -> Tuple[List[tf.Tensor], tf.Tensor]:\n",
        "   x_enc = window[0]\n",
        "   x_dec = tf.identity(window[1])\n",
        "\n",
        "   x_dec = tf.concat([x_dec[:-pred_len], tf.zeros((pred_len, x_dec.shape[1]), dtype=tf.float64)], 0)\n",
        "\n",
        "   x_mark_enc = window_mark[0]\n",
        "   x_mark_dec = window_mark[1]\n",
        "   \n",
        "   y = window[1][-pred_len:]\n",
        "   \n",
        "   return (x_enc, x_dec, x_mark_enc, x_mark_dec), y"
      ],
      "execution_count": null,
      "outputs": []
    },
    {
      "cell_type": "code",
      "metadata": {
        "id": "F0eNg0fUUCId"
      },
      "source": [
        "def create_dataset(data, drop_remainder) -> tf.data.Dataset:\n",
        "  dataset = tf.data.Dataset.from_tensor_slices(data)\n",
        "\n",
        "  dataset = dataset.window(seq_len + pred_len, shift=1, drop_remainder=drop_remainder)\n",
        "  dataset = dataset.flat_map(lambda window: window.batch(seq_len + pred_len))\n",
        "  \n",
        "  dataset = dataset.map(split_window, num_parallel_calls=tf.data.AUTOTUNE)\n",
        "  return dataset"
      ],
      "execution_count": null,
      "outputs": []
    },
    {
      "cell_type": "code",
      "metadata": {
        "id": "EHKDBO1UEJxe"
      },
      "source": [
        "def CustomDataset(flag='train', batch_size = 32, drop_remainder=True) -> tf.data.Dataset:\n",
        "  assert flag in ['train', 'test', 'val']\n",
        "  type_map = {'train': 0, 'val': 1, 'test': 2}\n",
        "  \n",
        "  df_raw = pd.read_csv(os.path.join(root_path, data_path))\n",
        "  \n",
        "  data_x, data_stamp = read_data(df_raw, features, type_map[flag])\n",
        "\n",
        "  ds_features = create_dataset(data_x, drop_remainder)\n",
        "  ds_stamp = create_dataset(data_stamp, drop_remainder)\n",
        "  \n",
        "  dataset = tf.data.Dataset.zip((ds_features, ds_stamp))\n",
        "  dataset = dataset.map(process_window, num_parallel_calls=tf.data.AUTOTUNE)\n",
        "  dataset = dataset.batch(batch_size, drop_remainder=drop_remainder)\n",
        "  \n",
        "  return dataset"
      ],
      "execution_count": null,
      "outputs": []
    },
    {
      "cell_type": "markdown",
      "metadata": {
        "id": "wVNb-y5Lc5Q2"
      },
      "source": [
        "# **Training, Validation & Testing**"
      ]
    },
    {
      "cell_type": "code",
      "metadata": {
        "id": "yNjzadTBeEo9"
      },
      "source": [
        "import datetime\n",
        "\n",
        "from tensorflow.keras.optimizers import Adam\n",
        "from tensorflow.keras.callbacks import LearningRateScheduler, EarlyStopping, ModelCheckpoint, TensorBoard\n",
        "\n",
        "%load_ext tensorboard"
      ],
      "execution_count": null,
      "outputs": []
    },
    {
      "cell_type": "code",
      "metadata": {
        "id": "WH8X36AnVJVP",
        "colab": {
          "base_uri": "https://localhost:8080/"
        },
        "outputId": "5c93e588-adfc-4e69-d958-59c663214db0"
      },
      "source": [
        "BATCH_SIZE = 32\n",
        "EPOCHS = 8\n",
        "\n",
        "ds_train = CustomDataset('train', BATCH_SIZE)\n",
        "ds_val = CustomDataset('val', BATCH_SIZE)\n",
        "ds_test = CustomDataset('test', BATCH_SIZE)"
      ],
      "execution_count": null,
      "outputs": [
        {
          "output_type": "stream",
          "name": "stderr",
          "text": [
            "/usr/local/lib/python3.7/dist-packages/tensorflow/python/data/ops/dataset_ops.py:4212: UserWarning: Even though the `tf.config.experimental_run_functions_eagerly` option is set, this option does not apply to tf.data functions. To force eager execution of tf.data functions, please use `tf.data.experimental.enable_debug_mode()`.\n",
            "  \"Even though the `tf.config.experimental_run_functions_eagerly` \"\n",
            "/usr/local/lib/python3.7/dist-packages/tensorflow/python/data/ops/dataset_ops.py:4212: UserWarning: Even though the `tf.config.experimental_run_functions_eagerly` option is set, this option does not apply to tf.data functions. To force eager execution of tf.data functions, please use `tf.data.experimental.enable_debug_mode()`.\n",
            "  \"Even though the `tf.config.experimental_run_functions_eagerly` \"\n",
            "/usr/local/lib/python3.7/dist-packages/tensorflow/python/data/ops/dataset_ops.py:4212: UserWarning: Even though the `tf.config.experimental_run_functions_eagerly` option is set, this option does not apply to tf.data functions. To force eager execution of tf.data functions, please use `tf.data.experimental.enable_debug_mode()`.\n",
            "  \"Even though the `tf.config.experimental_run_functions_eagerly` \"\n"
          ]
        }
      ]
    },
    {
      "cell_type": "code",
      "metadata": {
        "id": "CeKJOihk5c2k"
      },
      "source": [
        "# for (e, d, mE, mD), y in ds_train.take(1):\n",
        "#   print(f'Encoder input: {e[0].numpy()}\\n\\nDecoder Input: {d[0].numpy()}\\n\\nLabel: {y[0].numpy()}')"
      ],
      "execution_count": null,
      "outputs": []
    },
    {
      "cell_type": "code",
      "metadata": {
        "id": "RDDTj2fJc47z"
      },
      "source": [
        "log_dir = \"logs/fit/\" + datetime.datetime.now().strftime(\"%Y%m%d-%H%M%S\")\n",
        "checkpoint_dir = \"weights_checkpoint\"\n",
        "\n",
        "early_stopping = EarlyStopping(monitor='loss', patience=7)\n",
        "lr_scheduler = LearningRateScheduler(lambda epoch: 1e-4 * (0.5 ** ((epoch -1) // 1)))\n",
        "model_checkpoint = ModelCheckpoint(checkpoint_dir, monitor='loss', save_best_only=True, save_weights_only=True)\n",
        "tensorboard = TensorBoard(log_dir=log_dir, histogram_freq=1)\n",
        "\n",
        "etth_model = Informer(enc_layers=3, dec_layers=5, training=True)\n",
        "\n",
        "etth_model.compile(optimizer= Adam(learning_rate=1e-4), loss='mse', metrics=['mse', 'mae'])"
      ],
      "execution_count": null,
      "outputs": []
    },
    {
      "cell_type": "markdown",
      "metadata": {
        "id": "TqGf_jkikZ5W"
      },
      "source": [
        ""
      ]
    },
    {
      "cell_type": "code",
      "metadata": {
        "id": "UHriWl4Tgylf"
      },
      "source": [
        "# tf.keras.backend.clear_session()\n",
        "# etth_history = etth_model.fit(ds_train, validation_data=ds_val, epochs=50, callbacks=[early_stopping, model_checkpoint, tensorboard])"
      ],
      "execution_count": null,
      "outputs": []
    },
    {
      "cell_type": "code",
      "metadata": {
        "id": "MZ4nDAumB7mQ"
      },
      "source": [
        "# tf.saved_model.save(etth_model, 'etth_saved_model')"
      ],
      "execution_count": null,
      "outputs": []
    },
    {
      "cell_type": "markdown",
      "metadata": {
        "id": "XzZiP92cLa65"
      },
      "source": [
        "# **Hyperparameter Tuning**\n",
        "Initial loss value matters, the lesser the initial loss value from the first epoch, the faster we can reach a better MSE before starting to overfit."
      ]
    },
    {
      "cell_type": "code",
      "metadata": {
        "colab": {
          "base_uri": "https://localhost:8080/"
        },
        "id": "4Gp0kltTLbr3",
        "outputId": "e69f6cc2-034b-4865-fdcf-bdf9a3c968a9"
      },
      "source": [
        "pip install -q -U keras-tuner"
      ],
      "execution_count": null,
      "outputs": [
        {
          "output_type": "stream",
          "name": "stdout",
          "text": [
            "\u001b[?25l\r\u001b[K     |███▍                            | 10 kB 31.1 MB/s eta 0:00:01\r\u001b[K     |██████▊                         | 20 kB 24.3 MB/s eta 0:00:01\r\u001b[K     |██████████                      | 30 kB 11.8 MB/s eta 0:00:01\r\u001b[K     |█████████████▍                  | 40 kB 9.5 MB/s eta 0:00:01\r\u001b[K     |████████████████▊               | 51 kB 4.3 MB/s eta 0:00:01\r\u001b[K     |████████████████████            | 61 kB 4.6 MB/s eta 0:00:01\r\u001b[K     |███████████████████████▍        | 71 kB 4.3 MB/s eta 0:00:01\r\u001b[K     |██████████████████████████▊     | 81 kB 4.8 MB/s eta 0:00:01\r\u001b[K     |██████████████████████████████▏ | 92 kB 4.9 MB/s eta 0:00:01\r\u001b[K     |████████████████████████████████| 97 kB 3.1 MB/s \n",
            "\u001b[?25h"
          ]
        }
      ]
    },
    {
      "cell_type": "code",
      "metadata": {
        "id": "I-PmbYKlLdr5"
      },
      "source": [
        "import keras_tuner as kt"
      ],
      "execution_count": null,
      "outputs": []
    },
    {
      "cell_type": "code",
      "metadata": {
        "id": "g18a0KLhLfW5"
      },
      "source": [
        "def model_builder(hp):\n",
        "  hp_enc_layers = hp.Int('num_encoder_layers', 1, 3, default=1)\n",
        "  hp_dec_layers = hp.Int('num_decoder_layers', 2, 5, default=2)\n",
        "  hp_dropout_rate = hp.Float('dropout_rate', 0, 0.5, step=0.01, default=0.05)\n",
        "  hp_expansion = hp.Int('expansion', 1, 4, default=4)\n",
        "  hp_factor = hp.Int('factor', 1, 10, default=5)\n",
        "  hp_learning_rate = hp.Fixed('learning_rate', 1e-4)\n",
        "\n",
        "  kt_etth_model = Informer(enc_layers=hp_enc_layers, dec_layers=hp_dec_layers, dropout_rate=hp_dropout_rate, \n",
        "                           factor = hp_factor, expansion = hp_expansion, training=True)\n",
        "  kt_etth_model.compile(optimizer= Adam(learning_rate=hp_learning_rate), loss='mse', metrics=['mse'])\n",
        "\n",
        "  return kt_etth_model"
      ],
      "execution_count": null,
      "outputs": []
    },
    {
      "cell_type": "code",
      "metadata": {
        "colab": {
          "base_uri": "https://localhost:8080/"
        },
        "id": "3vwsurNaLhPi",
        "outputId": "c669f7ad-579c-430c-dbfc-ef89f103d02d"
      },
      "source": [
        "kt_early_stopping = EarlyStopping(monitor='loss', patience=4)\n",
        "kt_lr_scheduler = LearningRateScheduler(lambda epoch: 1e-4 * (0.5 ** ((epoch -1) // 1)))\n",
        "\n",
        "tuner = kt.Hyperband(model_builder, objective='val_mse', max_epochs=10, factor=3, directory='/content/', project_name='kt_etth_tuning')\n",
        "tuner.search(ds_train, validation_data=ds_val, epochs=50, callbacks=[kt_early_stopping, kt_lr_scheduler])"
      ],
      "execution_count": null,
      "outputs": [
        {
          "output_type": "stream",
          "name": "stdout",
          "text": [
            "Trial 30 Complete [00h 23m 11s]\n",
            "val_mse: 1.6019867658615112\n",
            "\n",
            "Best val_mse So Far: 1.6019867658615112\n",
            "Total elapsed time: 05h 38m 49s\n",
            "INFO:tensorflow:Oracle triggered exit\n"
          ]
        }
      ]
    }
  ]
}